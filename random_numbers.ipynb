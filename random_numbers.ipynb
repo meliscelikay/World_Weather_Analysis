{
 "cells": [
  {
   "cell_type": "code",
   "execution_count": 1,
   "id": "c2840014",
   "metadata": {},
   "outputs": [],
   "source": [
    "import random"
   ]
  },
  {
   "cell_type": "code",
   "execution_count": 2,
   "id": "a55040de",
   "metadata": {},
   "outputs": [
    {
     "data": {
      "text/plain": [
       "-51"
      ]
     },
     "execution_count": 2,
     "metadata": {},
     "output_type": "execute_result"
    }
   ],
   "source": [
    "random.randint(-90,90)"
   ]
  },
  {
   "cell_type": "code",
   "execution_count": 3,
   "id": "f0506edf",
   "metadata": {},
   "outputs": [
    {
     "data": {
      "text/plain": [
       "0.5776215217593067"
      ]
     },
     "execution_count": 3,
     "metadata": {},
     "output_type": "execute_result"
    }
   ],
   "source": [
    "random.random()"
   ]
  },
  {
   "cell_type": "code",
   "execution_count": 4,
   "id": "e6857a19",
   "metadata": {},
   "outputs": [
    {
     "data": {
      "text/plain": [
       "7"
      ]
     },
     "execution_count": 4,
     "metadata": {},
     "output_type": "execute_result"
    }
   ],
   "source": [
    "random.randrange(-9,9,2)"
   ]
  },
  {
   "cell_type": "code",
   "execution_count": 5,
   "id": "7ba07044",
   "metadata": {},
   "outputs": [
    {
     "data": {
      "text/plain": [
       "7.274758254805246"
      ]
     },
     "execution_count": 5,
     "metadata": {},
     "output_type": "execute_result"
    }
   ],
   "source": [
    "random.uniform(-10,10)"
   ]
  },
  {
   "cell_type": "code",
   "execution_count": 6,
   "id": "6bbbd224",
   "metadata": {},
   "outputs": [
    {
     "data": {
      "text/plain": [
       "-36.217513108740974"
      ]
     },
     "execution_count": 6,
     "metadata": {},
     "output_type": "execute_result"
    }
   ],
   "source": [
    "random_number = random.randint(-90,89) + random.random()\n",
    "random_number"
   ]
  },
  {
   "cell_type": "code",
   "execution_count": 7,
   "id": "a112f6b0",
   "metadata": {},
   "outputs": [],
   "source": [
    "x = 1\n",
    "latitudes = []\n",
    "while x < 11:\n",
    "    random_lat = random.randint(-90, 89) + random.random()\n",
    "    latitudes.append(random_lat)\n",
    "    x += 1"
   ]
  },
  {
   "cell_type": "code",
   "execution_count": 8,
   "id": "a7799ba4",
   "metadata": {},
   "outputs": [
    {
     "data": {
      "text/plain": [
       "[-56.980920000255466,\n",
       " 47.83005646915535,\n",
       " -81.80266968548663,\n",
       " -21.83632894543707,\n",
       " 59.87489647634139,\n",
       " -7.717100781895624,\n",
       " 19.91988882280514,\n",
       " 49.012795853965805,\n",
       " 56.28119928238625,\n",
       " -15.52639146174978]"
      ]
     },
     "execution_count": 8,
     "metadata": {},
     "output_type": "execute_result"
    }
   ],
   "source": [
    "latitudes"
   ]
  },
  {
   "cell_type": "code",
   "execution_count": 9,
   "id": "ce872df1",
   "metadata": {},
   "outputs": [
    {
     "data": {
      "text/plain": [
       "53"
      ]
     },
     "execution_count": 9,
     "metadata": {},
     "output_type": "execute_result"
    }
   ],
   "source": [
    "random.randrange(-90, 90, step=1)"
   ]
  },
  {
   "cell_type": "code",
   "execution_count": 10,
   "id": "9b99c552",
   "metadata": {},
   "outputs": [
    {
     "data": {
      "text/plain": [
       "-65.6237087027396"
      ]
     },
     "execution_count": 10,
     "metadata": {},
     "output_type": "execute_result"
    }
   ],
   "source": [
    "random.uniform(-90, 90)"
   ]
  },
  {
   "cell_type": "code",
   "execution_count": 11,
   "id": "a8f549ee",
   "metadata": {},
   "outputs": [],
   "source": [
    "# Import the NumPy module.\n",
    "import numpy as np"
   ]
  },
  {
   "cell_type": "code",
   "execution_count": 12,
   "id": "2b5d7088",
   "metadata": {},
   "outputs": [
    {
     "data": {
      "text/plain": [
       "63.903381320341765"
      ]
     },
     "execution_count": 12,
     "metadata": {},
     "output_type": "execute_result"
    }
   ],
   "source": [
    "np.random.uniform(-90.000, 90.000)"
   ]
  },
  {
   "cell_type": "code",
   "execution_count": 13,
   "id": "5166a008",
   "metadata": {},
   "outputs": [
    {
     "data": {
      "text/plain": [
       "-89.45312234335222"
      ]
     },
     "execution_count": 13,
     "metadata": {},
     "output_type": "execute_result"
    }
   ],
   "source": [
    "np.random.uniform(low=-90, high=90)"
   ]
  },
  {
   "cell_type": "code",
   "execution_count": 14,
   "id": "9a392a5c",
   "metadata": {},
   "outputs": [
    {
     "data": {
      "text/plain": [
       "array([ 45.1601728 ,  60.69185071,  35.50081008,   6.75248563,\n",
       "       -31.60184922,  40.5090684 ,  -3.63703989, -24.74831402,\n",
       "       -80.76187911,  24.80046538,  -7.58249944, -56.15775522,\n",
       "        -0.63740493, -22.52318571,  13.87466028,  53.44130887,\n",
       "       -29.27561244, -81.70063015, -40.18932162,  20.58646008,\n",
       "        86.35342068, -50.33420361,  64.99518776,  -9.90559995,\n",
       "       -82.19838614, -64.99190074,  -1.22406896, -59.12908835,\n",
       "       -35.19428224, -35.19528695,  58.98277547,  49.72078878,\n",
       "       -52.50006074, -11.36468471, -82.67085324, -55.17950806,\n",
       "         3.99644795,  33.09093124,  49.11868436, -79.69638001,\n",
       "       -25.02374258,  78.12856005, -29.45961872,  76.55387198,\n",
       "       -22.23174976, -83.35036744, -28.68737114, -81.10556752,\n",
       "        60.90649393,  31.00726993])"
      ]
     },
     "execution_count": 14,
     "metadata": {},
     "output_type": "execute_result"
    }
   ],
   "source": [
    "np.random.uniform(-90.000, 90.000, size=50)"
   ]
  },
  {
   "cell_type": "code",
   "execution_count": 15,
   "id": "59c8254d",
   "metadata": {},
   "outputs": [],
   "source": [
    "# Import timeit.\n",
    "import timeit"
   ]
  },
  {
   "cell_type": "code",
   "execution_count": 16,
   "id": "eb060f8f",
   "metadata": {},
   "outputs": [
    {
     "data": {
      "text/plain": [
       "array([-25.9917503 ,  -9.18722051,  31.60604349, ...,  23.86708914,\n",
       "        38.6368316 ,  59.66214353])"
      ]
     },
     "execution_count": 16,
     "metadata": {},
     "output_type": "execute_result"
    }
   ],
   "source": [
    "np.random.uniform(-90.000, 90.000, size=1500)"
   ]
  },
  {
   "cell_type": "code",
   "execution_count": 17,
   "id": "07986e25",
   "metadata": {},
   "outputs": [
    {
     "name": "stdout",
     "output_type": "stream",
     "text": [
      "35.5 µs ± 8.73 µs per loop (mean ± std. dev. of 7 runs, 10000 loops each)\n"
     ]
    }
   ],
   "source": [
    "%timeit np.random.uniform(-90.000, 90.000, size=1500)"
   ]
  },
  {
   "cell_type": "code",
   "execution_count": 18,
   "id": "bf8e5a49",
   "metadata": {},
   "outputs": [
    {
     "name": "stdout",
     "output_type": "stream",
     "text": [
      "4.17 ms ± 520 µs per loop (mean ± std. dev. of 7 runs, 100 loops each)\n"
     ]
    }
   ],
   "source": [
    "def latitudes(size):\n",
    "    latitudes = []\n",
    "    x = 0\n",
    "    while x < (size):\n",
    "        random_lat = random.randint(-90, 90) + random.random()\n",
    "        latitudes.append(random_lat)\n",
    "        x += 1\n",
    "    return latitudes\n",
    "# Call the function with 1500.\n",
    "%timeit latitudes(1500)"
   ]
  },
  {
   "cell_type": "code",
   "execution_count": 19,
   "id": "5cb702ae",
   "metadata": {},
   "outputs": [
    {
     "name": "stdout",
     "output_type": "stream",
     "text": [
      "3.7 ms ± 492 µs per loop (mean ± std. dev. of 7 runs, 100 loops each)\n"
     ]
    }
   ],
   "source": [
    "# Skill Drill (6.1.4)\n",
    "def latitudes(size):\n",
    "    latitudes = []\n",
    "    x = 1\n",
    "    while x < (size):\n",
    "        random_lat = random.randint(-90, 89) + random.random()\n",
    "        latitudes.append(random_lat)\n",
    "        x += 1\n",
    "    return latitudes\n",
    "# Call the function with 1500.\n",
    "%timeit latitudes(1500)"
   ]
  },
  {
   "cell_type": "code",
   "execution_count": null,
   "id": "4526ed5e",
   "metadata": {},
   "outputs": [],
   "source": []
  }
 ],
 "metadata": {
  "kernelspec": {
   "display_name": "PythonData",
   "language": "python",
   "name": "pythondata"
  },
  "language_info": {
   "codemirror_mode": {
    "name": "ipython",
    "version": 3
   },
   "file_extension": ".py",
   "mimetype": "text/x-python",
   "name": "python",
   "nbconvert_exporter": "python",
   "pygments_lexer": "ipython3",
   "version": "3.9.7"
  }
 },
 "nbformat": 4,
 "nbformat_minor": 5
}
